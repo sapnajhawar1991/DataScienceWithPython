{
 "cells": [
  {
   "cell_type": "markdown",
   "metadata": {},
   "source": [
    "# DataFrame"
   ]
  },
  {
   "cell_type": "code",
   "execution_count": 1,
   "metadata": {
    "collapsed": true
   },
   "outputs": [],
   "source": [
    "# print all the outputs in a cell\n",
    "from IPython.core.interactiveshell import InteractiveShell\n",
    "InteractiveShell.ast_node_interactivity = \"all\"\n",
    "\n",
    "import pandas as pd"
   ]
  },
  {
   "cell_type": "markdown",
   "metadata": {},
   "source": [
    "Load the survey data"
   ]
  },
  {
   "cell_type": "code",
   "execution_count": 2,
   "metadata": {
    "collapsed": false
   },
   "outputs": [],
   "source": [
    "df  = pd.read_csv('data science survey.csv')"
   ]
  },
  {
   "cell_type": "code",
   "execution_count": 3,
   "metadata": {
    "collapsed": false
   },
   "outputs": [
    {
     "data": {
      "text/html": [
       "<div>\n",
       "<table border=\"1\" class=\"dataframe\">\n",
       "  <thead>\n",
       "    <tr style=\"text-align: right;\">\n",
       "      <th></th>\n",
       "      <th>Timestamp</th>\n",
       "      <th>Do you have a job?</th>\n",
       "      <th>How long ago did you get your Bachelor degree?</th>\n",
       "      <th>What program are enrolled in?</th>\n",
       "      <th>How would you rate your computer programming background?</th>\n",
       "      <th>Have you ever programmed in C?</th>\n",
       "      <th>Have you ever programmed in C++?</th>\n",
       "      <th>Have you ever programmed in C#?</th>\n",
       "      <th>Have you ever programmed in Java?</th>\n",
       "      <th>Have you ever programmed in Python?</th>\n",
       "      <th>Have you ever programmed in Javascript?</th>\n",
       "      <th>Have you ever programmed in R?</th>\n",
       "      <th>Have you ever programmed in SQL?</th>\n",
       "      <th>Have you ever used SAS?</th>\n",
       "      <th>Have you ever used Excel?</th>\n",
       "      <th>Have you ever used Tableau?</th>\n",
       "      <th>Have you ever run a regression?</th>\n",
       "      <th>How familiar are you with the Machine Learning task called \"classification\"?</th>\n",
       "      <th>How familiar are you with the Machine Learning task called \"clustering\"?</th>\n",
       "    </tr>\n",
       "  </thead>\n",
       "  <tbody>\n",
       "    <tr>\n",
       "      <th>0</th>\n",
       "      <td>2017/01/09 1:48:20 PM PST</td>\n",
       "      <td>No, I'm not working at the moment</td>\n",
       "      <td>longer than 1 year ago but less than 3 years ago</td>\n",
       "      <td>MSIS</td>\n",
       "      <td>4</td>\n",
       "      <td>Yes</td>\n",
       "      <td>Yes</td>\n",
       "      <td>No</td>\n",
       "      <td>Yes</td>\n",
       "      <td>Yes</td>\n",
       "      <td>Yes</td>\n",
       "      <td>No</td>\n",
       "      <td>Yes</td>\n",
       "      <td>No</td>\n",
       "      <td>Yes</td>\n",
       "      <td>No</td>\n",
       "      <td>Yes</td>\n",
       "      <td>4</td>\n",
       "      <td>4</td>\n",
       "    </tr>\n",
       "    <tr>\n",
       "      <th>1</th>\n",
       "      <td>2017/01/09 2:15:59 PM PST</td>\n",
       "      <td>Yes, I have a part-time job</td>\n",
       "      <td>over 5 years ago</td>\n",
       "      <td>MSIS</td>\n",
       "      <td>3</td>\n",
       "      <td>Yes</td>\n",
       "      <td>Yes</td>\n",
       "      <td>No</td>\n",
       "      <td>Yes</td>\n",
       "      <td>No</td>\n",
       "      <td>No</td>\n",
       "      <td>No</td>\n",
       "      <td>Yes</td>\n",
       "      <td>No</td>\n",
       "      <td>Yes</td>\n",
       "      <td>No</td>\n",
       "      <td>No</td>\n",
       "      <td>2</td>\n",
       "      <td>2</td>\n",
       "    </tr>\n",
       "    <tr>\n",
       "      <th>2</th>\n",
       "      <td>2017/01/09 3:48:48 PM PST</td>\n",
       "      <td>No, I'm not working at the moment</td>\n",
       "      <td>longer than 3 years ago but less than 5 years ago</td>\n",
       "      <td>MSIS</td>\n",
       "      <td>3</td>\n",
       "      <td>No</td>\n",
       "      <td>No</td>\n",
       "      <td>No</td>\n",
       "      <td>Yes</td>\n",
       "      <td>Yes</td>\n",
       "      <td>No</td>\n",
       "      <td>No</td>\n",
       "      <td>Yes</td>\n",
       "      <td>No</td>\n",
       "      <td>Yes</td>\n",
       "      <td>No</td>\n",
       "      <td>Yes</td>\n",
       "      <td>3</td>\n",
       "      <td>3</td>\n",
       "    </tr>\n",
       "    <tr>\n",
       "      <th>3</th>\n",
       "      <td>2017/01/09 3:48:51 PM PST</td>\n",
       "      <td>No, I'm not working at the moment</td>\n",
       "      <td>over 5 years ago</td>\n",
       "      <td>MSIS</td>\n",
       "      <td>3</td>\n",
       "      <td>Yes</td>\n",
       "      <td>No</td>\n",
       "      <td>No</td>\n",
       "      <td>Yes</td>\n",
       "      <td>Yes</td>\n",
       "      <td>No</td>\n",
       "      <td>Yes</td>\n",
       "      <td>Yes</td>\n",
       "      <td>No</td>\n",
       "      <td>Yes</td>\n",
       "      <td>No</td>\n",
       "      <td>Yes</td>\n",
       "      <td>2</td>\n",
       "      <td>3</td>\n",
       "    </tr>\n",
       "    <tr>\n",
       "      <th>4</th>\n",
       "      <td>2017/01/09 3:50:03 PM PST</td>\n",
       "      <td>No, I'm not working at the moment</td>\n",
       "      <td>longer than 3 years ago but less than 5 years ago</td>\n",
       "      <td>MSIS</td>\n",
       "      <td>3</td>\n",
       "      <td>Yes</td>\n",
       "      <td>No</td>\n",
       "      <td>No</td>\n",
       "      <td>Yes</td>\n",
       "      <td>Yes</td>\n",
       "      <td>No</td>\n",
       "      <td>No</td>\n",
       "      <td>Yes</td>\n",
       "      <td>No</td>\n",
       "      <td>Yes</td>\n",
       "      <td>No</td>\n",
       "      <td>No</td>\n",
       "      <td>1</td>\n",
       "      <td>1</td>\n",
       "    </tr>\n",
       "  </tbody>\n",
       "</table>\n",
       "</div>"
      ],
      "text/plain": [
       "                   Timestamp                 Do you have a job?  \\\n",
       "0  2017/01/09 1:48:20 PM PST  No, I'm not working at the moment   \n",
       "1  2017/01/09 2:15:59 PM PST        Yes, I have a part-time job   \n",
       "2  2017/01/09 3:48:48 PM PST  No, I'm not working at the moment   \n",
       "3  2017/01/09 3:48:51 PM PST  No, I'm not working at the moment   \n",
       "4  2017/01/09 3:50:03 PM PST  No, I'm not working at the moment   \n",
       "\n",
       "      How long ago did you get your Bachelor degree?  \\\n",
       "0   longer than 1 year ago but less than 3 years ago   \n",
       "1                                   over 5 years ago   \n",
       "2  longer than 3 years ago but less than 5 years ago   \n",
       "3                                   over 5 years ago   \n",
       "4  longer than 3 years ago but less than 5 years ago   \n",
       "\n",
       "  What program are enrolled in?  \\\n",
       "0                          MSIS   \n",
       "1                          MSIS   \n",
       "2                          MSIS   \n",
       "3                          MSIS   \n",
       "4                          MSIS   \n",
       "\n",
       "   How would you rate your computer programming background?  \\\n",
       "0                                                  4          \n",
       "1                                                  3          \n",
       "2                                                  3          \n",
       "3                                                  3          \n",
       "4                                                  3          \n",
       "\n",
       "  Have you ever programmed in C? Have you ever programmed in C++?  \\\n",
       "0                            Yes                              Yes   \n",
       "1                            Yes                              Yes   \n",
       "2                             No                               No   \n",
       "3                            Yes                               No   \n",
       "4                            Yes                               No   \n",
       "\n",
       "  Have you ever programmed in C#? Have you ever programmed in Java?  \\\n",
       "0                              No                               Yes   \n",
       "1                              No                               Yes   \n",
       "2                              No                               Yes   \n",
       "3                              No                               Yes   \n",
       "4                              No                               Yes   \n",
       "\n",
       "  Have you ever programmed in Python? Have you ever programmed in Javascript?  \\\n",
       "0                                 Yes                                     Yes   \n",
       "1                                  No                                      No   \n",
       "2                                 Yes                                      No   \n",
       "3                                 Yes                                      No   \n",
       "4                                 Yes                                      No   \n",
       "\n",
       "  Have you ever programmed in R? Have you ever programmed in SQL?  \\\n",
       "0                             No                              Yes   \n",
       "1                             No                              Yes   \n",
       "2                             No                              Yes   \n",
       "3                            Yes                              Yes   \n",
       "4                             No                              Yes   \n",
       "\n",
       "  Have you ever used SAS? Have you ever used Excel?  \\\n",
       "0                      No                       Yes   \n",
       "1                      No                       Yes   \n",
       "2                      No                       Yes   \n",
       "3                      No                       Yes   \n",
       "4                      No                       Yes   \n",
       "\n",
       "  Have you ever used Tableau? Have you ever run a regression?  \\\n",
       "0                          No                             Yes   \n",
       "1                          No                              No   \n",
       "2                          No                             Yes   \n",
       "3                          No                             Yes   \n",
       "4                          No                              No   \n",
       "\n",
       "   How familiar are you with the Machine Learning task called \"classification\"?  \\\n",
       "0                                                  4                              \n",
       "1                                                  2                              \n",
       "2                                                  3                              \n",
       "3                                                  2                              \n",
       "4                                                  1                              \n",
       "\n",
       "   How familiar are you with the Machine Learning task called \"clustering\"?  \n",
       "0                                                  4                         \n",
       "1                                                  2                         \n",
       "2                                                  3                         \n",
       "3                                                  3                         \n",
       "4                                                  1                         "
      ]
     },
     "execution_count": 3,
     "metadata": {},
     "output_type": "execute_result"
    }
   ],
   "source": [
    "df.head()"
   ]
  },
  {
   "cell_type": "markdown",
   "metadata": {},
   "source": [
    "## Cleaning"
   ]
  },
  {
   "cell_type": "markdown",
   "metadata": {},
   "source": [
    "### Let's change some of the column names"
   ]
  },
  {
   "cell_type": "code",
   "execution_count": null,
   "metadata": {
    "collapsed": false
   },
   "outputs": [],
   "source": [
    "df.columns = ['Timestamp',\n",
    "             'Job',\n",
    "             'BachTime',\n",
    "             'Program',\n",
    "             'ProgSkills',\n",
    "             'C',\n",
    "             'CPP',\n",
    "             'CS',\n",
    "             'Java',\n",
    "             'Python',\n",
    "             'JS',\n",
    "             'R',\n",
    "             'SQL',\n",
    "             'SAS',\n",
    "             'Excel',\n",
    "             'Tableau',\n",
    "             'Regression',\n",
    "             'Classification',\n",
    "             'Clustering']"
   ]
  },
  {
   "cell_type": "markdown",
   "metadata": {},
   "source": [
    "\n",
    "### Let's remove timestamps"
   ]
  },
  {
   "cell_type": "code",
   "execution_count": null,
   "metadata": {
    "collapsed": true
   },
   "outputs": [],
   "source": []
  },
  {
   "cell_type": "markdown",
   "metadata": {},
   "source": [
    "### Replace job situation with 0 (no job), 0.5 (part time), and 1 (full time)"
   ]
  },
  {
   "cell_type": "markdown",
   "metadata": {},
   "source": [
    "#### Solution 1"
   ]
  },
  {
   "cell_type": "code",
   "execution_count": null,
   "metadata": {
    "collapsed": false
   },
   "outputs": [],
   "source": [
    "df.ix[df['Job'] == 'No, I\\'m not working at the moment','Job'] = 0"
   ]
  },
  {
   "cell_type": "code",
   "execution_count": null,
   "metadata": {
    "collapsed": false
   },
   "outputs": [],
   "source": [
    "df.ix[df['Job'] == 'Yes, I have a part-time job','Job'] = 0.5"
   ]
  },
  {
   "cell_type": "code",
   "execution_count": null,
   "metadata": {
    "collapsed": false
   },
   "outputs": [],
   "source": [
    "df.ix[df['Job'] == 'Yes, I have a full-time job','Job'] = 1"
   ]
  },
  {
   "cell_type": "markdown",
   "metadata": {},
   "source": [
    "#### Solution 2"
   ]
  },
  {
   "cell_type": "markdown",
   "metadata": {},
   "source": [
    "Here, we will use the function <b>apply</b> on the column <i>Job</i>. The function \"apply\" requires as input a function that specifies how to transform each value. The function should perform the following transformations:\n",
    "<ul>\n",
    "<li>No, I'm not working at the moment => 0</li>\n",
    "<li>Yes, I have a part-time job => 0.5</li>\n",
    "<li>Yes, I have a full-time job => 1</li>\n",
    "</ul>"
   ]
  },
  {
   "cell_type": "code",
   "execution_count": null,
   "metadata": {
    "collapsed": true
   },
   "outputs": [],
   "source": [
    "def job2number (jobDescr):\n",
    "    if jobDescr.startswith('No'):\n",
    "        return 0\n",
    "    elif 'part-time' in jobDescr:\n",
    "        return 0.5\n",
    "    else:\n",
    "        return 1"
   ]
  },
  {
   "cell_type": "code",
   "execution_count": null,
   "metadata": {
    "collapsed": true
   },
   "outputs": [],
   "source": []
  },
  {
   "cell_type": "markdown",
   "metadata": {},
   "source": [
    "#### Solution 3"
   ]
  },
  {
   "cell_type": "markdown",
   "metadata": {},
   "source": [
    "Advanced (optional): instead of declaring a function as above, we can pass a lambda (or anonymous) function"
   ]
  },
  {
   "cell_type": "code",
   "execution_count": null,
   "metadata": {
    "collapsed": true
   },
   "outputs": [],
   "source": []
  },
  {
   "cell_type": "markdown",
   "metadata": {},
   "source": [
    "### Replace time from graduation with a dummy variable"
   ]
  },
  {
   "cell_type": "markdown",
   "metadata": {},
   "source": [
    "The time from graduation can have the following values:\n",
    "<ul>\n",
    "<li>less than 1 year ago</li>\n",
    "<li>longer than 1 year ago but less than 3 years ago</li>\n",
    "<li>longer than 3 years ago but less than 5 years ago</li>\n",
    "<li>over 5 years ago</li>\n",
    "</ul>\n",
    "\n",
    "We want to conver the column BachTime to <i>dummy variables</i>, that is we want to create four columns ('Bach_0to1', 'Bach_1to3', 'Bach_3to5', 'Bach_5Plus') of which only one will be 1 and the others 0. These columns will indicate which is the duration of the time from the bachelor's degree."
   ]
  },
  {
   "cell_type": "code",
   "execution_count": null,
   "metadata": {
    "collapsed": true
   },
   "outputs": [],
   "source": []
  },
  {
   "cell_type": "markdown",
   "metadata": {},
   "source": [
    "Let us rename the columns"
   ]
  },
  {
   "cell_type": "code",
   "execution_count": null,
   "metadata": {
    "collapsed": true
   },
   "outputs": [],
   "source": []
  },
  {
   "cell_type": "markdown",
   "metadata": {},
   "source": [
    "### Replace Yes with 1 and No with 0"
   ]
  },
  {
   "cell_type": "code",
   "execution_count": null,
   "metadata": {
    "collapsed": true
   },
   "outputs": [],
   "source": []
  },
  {
   "cell_type": "markdown",
   "metadata": {},
   "source": [
    "### Adding simple columns"
   ]
  },
  {
   "cell_type": "markdown",
   "metadata": {},
   "source": [
    "Let's add a column that counts how many programming languages students know. Languages = C+CPP+CS+Java+Python+JS+R+SQL+SAS"
   ]
  },
  {
   "cell_type": "code",
   "execution_count": null,
   "metadata": {
    "collapsed": true
   },
   "outputs": [],
   "source": []
  },
  {
   "cell_type": "markdown",
   "metadata": {},
   "source": [
    "or, faster:"
   ]
  },
  {
   "cell_type": "code",
   "execution_count": null,
   "metadata": {
    "collapsed": true
   },
   "outputs": [],
   "source": []
  },
  {
   "cell_type": "markdown",
   "metadata": {},
   "source": [
    "### Adding complex columns (advanced topic)"
   ]
  },
  {
   "cell_type": "markdown",
   "metadata": {},
   "source": [
    "Let's add a 0-1 column called \"Expert\" if <i>Languages</i> is 3 or more."
   ]
  },
  {
   "cell_type": "markdown",
   "metadata": {},
   "source": [
    "First, we need to define a function that given a row (i.e., a Series that represents a student) returns 1 if the student is and expert (and 0 otherwise). This row has index labels 'Job', 'BachTime, 'Program', etc)"
   ]
  },
  {
   "cell_type": "code",
   "execution_count": null,
   "metadata": {
    "collapsed": true
   },
   "outputs": [],
   "source": []
  },
  {
   "cell_type": "markdown",
   "metadata": {},
   "source": [
    "Second, we use the function <b>apply</b> with axis=1, which applies the function across columns and returns a Series:"
   ]
  },
  {
   "cell_type": "code",
   "execution_count": null,
   "metadata": {
    "collapsed": true
   },
   "outputs": [],
   "source": []
  },
  {
   "cell_type": "markdown",
   "metadata": {},
   "source": [
    "Alternatively, instead of defining a function with <i>def</i>, we can use a lambda function, which allows us to define the function \"inline\""
   ]
  },
  {
   "cell_type": "code",
   "execution_count": null,
   "metadata": {
    "collapsed": true
   },
   "outputs": [],
   "source": []
  },
  {
   "cell_type": "markdown",
   "metadata": {},
   "source": [
    "### Write it to a file"
   ]
  },
  {
   "cell_type": "code",
   "execution_count": null,
   "metadata": {
    "collapsed": true
   },
   "outputs": [],
   "source": []
  },
  {
   "cell_type": "markdown",
   "metadata": {},
   "source": [
    "## Problems"
   ]
  },
  {
   "cell_type": "markdown",
   "metadata": {},
   "source": [
    "How many students know SQL?"
   ]
  },
  {
   "cell_type": "code",
   "execution_count": null,
   "metadata": {
    "collapsed": true
   },
   "outputs": [],
   "source": []
  },
  {
   "cell_type": "markdown",
   "metadata": {},
   "source": [
    "What's the average programming skills of MSIS students? Compare it to that of MBA students"
   ]
  },
  {
   "cell_type": "code",
   "execution_count": null,
   "metadata": {
    "collapsed": true
   },
   "outputs": [],
   "source": []
  },
  {
   "cell_type": "markdown",
   "metadata": {},
   "source": [
    "How many students know classification better than clustering? And how many clustering better than classification?"
   ]
  },
  {
   "cell_type": "code",
   "execution_count": null,
   "metadata": {
    "collapsed": true
   },
   "outputs": [],
   "source": []
  },
  {
   "cell_type": "markdown",
   "metadata": {},
   "source": [
    "## Some Analysis"
   ]
  },
  {
   "cell_type": "markdown",
   "metadata": {},
   "source": [
    "Summary statistics"
   ]
  },
  {
   "cell_type": "code",
   "execution_count": null,
   "metadata": {
    "collapsed": true
   },
   "outputs": [],
   "source": []
  },
  {
   "cell_type": "markdown",
   "metadata": {},
   "source": [
    "Correlation"
   ]
  },
  {
   "cell_type": "code",
   "execution_count": null,
   "metadata": {
    "collapsed": true
   },
   "outputs": [],
   "source": []
  },
  {
   "cell_type": "markdown",
   "metadata": {},
   "source": [
    "## Problem"
   ]
  },
  {
   "cell_type": "markdown",
   "metadata": {
    "collapsed": true
   },
   "source": [
    "(Together, hard exercise) What are the top 10 correlations and the top 10 anti-correlations? <i>Hint: understand what this does first:</i>"
   ]
  },
  {
   "cell_type": "code",
   "execution_count": null,
   "metadata": {
    "collapsed": false
   },
   "outputs": [],
   "source": [
    "cor = df.corr()\n",
    "cor.stack()"
   ]
  },
  {
   "cell_type": "code",
   "execution_count": null,
   "metadata": {
    "collapsed": true
   },
   "outputs": [],
   "source": []
  }
 ],
 "metadata": {
  "kernelspec": {
   "display_name": "Python 2",
   "language": "python",
   "name": "python2"
  },
  "language_info": {
   "codemirror_mode": {
    "name": "ipython",
    "version": 2
   },
   "file_extension": ".py",
   "mimetype": "text/x-python",
   "name": "python",
   "nbconvert_exporter": "python",
   "pygments_lexer": "ipython2",
   "version": "2.7.11"
  }
 },
 "nbformat": 4,
 "nbformat_minor": 0
}
