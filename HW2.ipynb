{
 "cells": [
  {
   "cell_type": "markdown",
   "metadata": {},
   "source": [
    "# HW2 "
   ]
  },
  {
   "cell_type": "markdown",
   "metadata": {},
   "source": [
    "### Submitted by  Sapna Maheshwari "
   ]
  },
  {
   "cell_type": "markdown",
   "metadata": {},
   "source": [
    "### due on 2/1/2017 at 11:59 pm"
   ]
  },
  {
   "cell_type": "markdown",
   "metadata": {},
   "source": [
    "<b>Instructions:</b> Write your answers in the empty code cells below."
   ]
  },
  {
   "cell_type": "markdown",
   "metadata": {},
   "source": [
    "<b>Penalties:</b> You will incur penalties if:\n",
    "<ul>\n",
    "<li>Your code is wrong</li>\n",
    "<li>Your code does not work on different data</li>\n",
    "<li>You use for loops (unless explicitly permitted)</li>\n",
    "</ul>"
   ]
  },
  {
   "cell_type": "markdown",
   "metadata": {},
   "source": [
    "<b>Grading</b>: I tend to grade each question as 0 (completely wrong), 0.5 (partly wrong), and 1.0 (correct or almost correct)"
   ]
  },
  {
   "cell_type": "markdown",
   "metadata": {},
   "source": [
    "## Problem 1"
   ]
  },
  {
   "cell_type": "markdown",
   "metadata": {},
   "source": [
    "Start by executing the following code, which builds a Series of homework grades, called <b>hw1</b>."
   ]
  },
  {
   "cell_type": "code",
   "execution_count": 7,
   "metadata": {
    "collapsed": false
   },
   "outputs": [],
   "source": [
    "import pandas as pd"
   ]
  },
  {
   "cell_type": "code",
   "execution_count": 10,
   "metadata": {
    "collapsed": false
   },
   "outputs": [],
   "source": [
    "hw1Data = {'Dorian':7, \n",
    "                'Jeannine':6, \n",
    "                'Iluminada':2, \n",
    "                'Luci':7, \n",
    "                'Jenny':8, \n",
    "                'Demetria':2, \n",
    "                'Michael':6, \n",
    "                'Garland':9, \n",
    "                'Shelby':1, \n",
    "                'Mercy':5}\n",
    "hw1 = pd.Series(hw1Data,name='HW1',index=['Dorian', \n",
    "                                                    'Jeannine',\n",
    "                                                    'Iluminada',\n",
    "                                                    'Luci',\n",
    "                                                    'Jenny',\n",
    "                                                    'Demetria',\n",
    "                                                    'Michael',\n",
    "                                                    'Garland',\n",
    "                                                    'Shelby',\n",
    "                                                    'Mercy'])"
   ]
  },
  {
   "cell_type": "markdown",
   "metadata": {},
   "source": [
    "### Question 1"
   ]
  },
  {
   "cell_type": "markdown",
   "metadata": {},
   "source": [
    "Sort in inverse alphabetical order those students whose grade is between 3 and 7 included "
   ]
  },
  {
   "cell_type": "code",
   "execution_count": 15,
   "metadata": {
    "collapsed": false
   },
   "outputs": [
    {
     "data": {
      "text/plain": [
       "Shelby       1\n",
       "Michael      6\n",
       "Mercy        5\n",
       "Luci         7\n",
       "Jenny        8\n",
       "Jeannine     6\n",
       "Iluminada    2\n",
       "Garland      9\n",
       "Dorian       7\n",
       "Demetria     2\n",
       "Name: HW1, dtype: int64"
      ]
     },
     "execution_count": 15,
     "metadata": {},
     "output_type": "execute_result"
    }
   ],
   "source": [
    "a = hw1.sort_index(ascending = False) \n",
    "a"
   ]
  },
  {
   "cell_type": "code",
   "execution_count": 20,
   "metadata": {
    "collapsed": false,
    "scrolled": true
   },
   "outputs": [
    {
     "data": {
      "text/plain": [
       "Michael     6\n",
       "Mercy       5\n",
       "Luci        7\n",
       "Jeannine    6\n",
       "Dorian      7\n",
       "Name: HW1, dtype: int64"
      ]
     },
     "execution_count": 20,
     "metadata": {},
     "output_type": "execute_result"
    }
   ],
   "source": [
    "a[(a >= 3) & (a <= 7)]"
   ]
  },
  {
   "cell_type": "markdown",
   "metadata": {},
   "source": [
    "### Question 2"
   ]
  },
  {
   "cell_type": "markdown",
   "metadata": {},
   "source": [
    "We want to normalize the grades so that the worst student gets a 0, the best a 10, and the ranking between students is preserved. How would you do it? "
   ]
  },
  {
   "cell_type": "markdown",
   "metadata": {},
   "source": [
    "Solution: Actually, there are two ways of solving this question. In one way, we can simply use the normalization formula which is given below."
   ]
  },
  {
   "cell_type": "code",
   "execution_count": 231,
   "metadata": {
    "collapsed": false,
    "scrolled": true
   },
   "outputs": [
    {
     "data": {
      "text/plain": [
       "Dorian        7.50\n",
       "Jeannine      6.25\n",
       "Iluminada     1.25\n",
       "Luci          7.50\n",
       "Jenny         8.75\n",
       "Demetria      1.25\n",
       "Michael       6.25\n",
       "Garland      10.00\n",
       "Shelby        0.00\n",
       "Mercy         5.00\n",
       "Name: HW1, dtype: float64"
      ]
     },
     "execution_count": 231,
     "metadata": {},
     "output_type": "execute_result"
    }
   ],
   "source": [
    "hw = (hw1 - hw1[hw1.idxmin()])/ (hw1[hw1.idxmax()] - hw1[hw1.idxmin()]) *10\n",
    "hw"
   ]
  },
  {
   "cell_type": "markdown",
   "metadata": {},
   "source": [
    "Second way is to simply change the value of highest and lowest grade students which will also not effect the ranking between the students."
   ]
  },
  {
   "cell_type": "code",
   "execution_count": 232,
   "metadata": {
    "collapsed": false
   },
   "outputs": [
    {
     "data": {
      "text/plain": [
       "Dorian        7\n",
       "Jeannine      6\n",
       "Iluminada     2\n",
       "Luci          7\n",
       "Jenny         8\n",
       "Demetria      2\n",
       "Michael       6\n",
       "Garland      10\n",
       "Shelby        0\n",
       "Mercy         5\n",
       "Name: HW1, dtype: int64"
      ]
     },
     "execution_count": 232,
     "metadata": {},
     "output_type": "execute_result"
    }
   ],
   "source": [
    "hw1['Shelby'] = 0\n",
    "hw1['Garland'] = 10\n",
    "hw1"
   ]
  },
  {
   "cell_type": "markdown",
   "metadata": {},
   "source": [
    "## Problem 2"
   ]
  },
  {
   "cell_type": "markdown",
   "metadata": {},
   "source": [
    "Start by executing the following code, which creates a Series object <b>nf</b> of prices of the stock of Apple. "
   ]
  },
  {
   "cell_type": "code",
   "execution_count": 233,
   "metadata": {
    "collapsed": false
   },
   "outputs": [],
   "source": [
    "import pandas as pd\n",
    "import pandas_datareader.data as web # if this line gives you an error, install pandas_datareader\n",
    "import datetime    \n",
    "\n",
    "start = datetime.datetime(2010, 7, 1)\n",
    "end = datetime.datetime(2017, 1, 26)\n",
    "df = web.DataReader(\"AAPL\", 'google', start, end)\n",
    "\n",
    "dates = []\n",
    "for x in range(len(df)):\n",
    "    newdate = str(df.index[x])\n",
    "    newdate = newdate[0:10]\n",
    "    dates.append(newdate)\n",
    "df['dates'] = dates\n",
    "\n",
    "# Create a Series called nf\n",
    "nf = df.Close"
   ]
  },
  {
   "cell_type": "code",
   "execution_count": 234,
   "metadata": {
    "collapsed": false
   },
   "outputs": [
    {
     "name": "stdout",
     "output_type": "stream",
     "text": [
      "Populating the interactive namespace from numpy and matplotlib\n"
     ]
    },
    {
     "data": {
      "text/plain": [
       "<matplotlib.axes._subplots.AxesSubplot at 0xa6fa9b0>"
      ]
     },
     "execution_count": 234,
     "metadata": {},
     "output_type": "execute_result"
    },
    {
     "data": {
      "image/png": "[encoded data removed]",
      "text/plain": [
       "<matplotlib.figure.Figure at 0xa976940>"
      ]
     },
     "metadata": {},
     "output_type": "display_data"
    }
   ],
   "source": [
    "%pylab inline\n",
    "nf.plot()"
   ]
  },
  {
   "cell_type": "markdown",
   "metadata": {},
   "source": [
    "### Question 1\n"
   ]
  },
  {
   "cell_type": "markdown",
   "metadata": {},
   "source": [
    "What was the price on Dec 31, 2014?"
   ]
  },
  {
   "cell_type": "code",
   "execution_count": 235,
   "metadata": {
    "collapsed": false
   },
   "outputs": [
    {
     "data": {
      "text/plain": [
       "110.38"
      ]
     },
     "execution_count": 235,
     "metadata": {},
     "output_type": "execute_result"
    }
   ],
   "source": [
    "nf['2014-12-31']"
   ]
  },
  {
   "cell_type": "markdown",
   "metadata": {},
   "source": [
    "### Question 2"
   ]
  },
  {
   "cell_type": "markdown",
   "metadata": {},
   "source": [
    "In how many days was the price above 100?"
   ]
  },
  {
   "cell_type": "code",
   "execution_count": 236,
   "metadata": {
    "collapsed": false
   },
   "outputs": [],
   "source": [
    "mask = nf[nf > 100]"
   ]
  },
  {
   "cell_type": "code",
   "execution_count": 237,
   "metadata": {
    "collapsed": false
   },
   "outputs": [
    {
     "data": {
      "text/plain": [
       "505"
      ]
     },
     "execution_count": 237,
     "metadata": {},
     "output_type": "execute_result"
    }
   ],
   "source": [
    "len(mask)"
   ]
  },
  {
   "cell_type": "markdown",
   "metadata": {},
   "source": [
    "### Question 3"
   ]
  },
  {
   "cell_type": "markdown",
   "metadata": {},
   "source": [
    "What was the maximum price in 2013? Report both the day and the price."
   ]
  },
  {
   "cell_type": "code",
   "execution_count": 238,
   "metadata": {
    "collapsed": false,
    "scrolled": true
   },
   "outputs": [],
   "source": [
    "z = nf.filter(like = '2013', axis = 0)"
   ]
  },
  {
   "cell_type": "code",
   "execution_count": 239,
   "metadata": {
    "collapsed": false
   },
   "outputs": [
    {
     "data": {
      "text/plain": [
       "Timestamp('2013-12-23 00:00:00')"
      ]
     },
     "execution_count": 239,
     "metadata": {},
     "output_type": "execute_result"
    }
   ],
   "source": [
    "z.idxmax()"
   ]
  },
  {
   "cell_type": "code",
   "execution_count": 240,
   "metadata": {
    "collapsed": false
   },
   "outputs": [
    {
     "data": {
      "text/plain": [
       "81.439999999999998"
      ]
     },
     "execution_count": 240,
     "metadata": {},
     "output_type": "execute_result"
    }
   ],
   "source": [
    "nf[z.idxmax()]"
   ]
  },
  {
   "cell_type": "code",
   "execution_count": 241,
   "metadata": {
    "collapsed": false
   },
   "outputs": [
    {
     "name": "stdout",
     "output_type": "stream",
     "text": [
      "The maximum price in 2013 was on 2013-12-23 00:00:00 with the maximum price of 81.44.\n"
     ]
    }
   ],
   "source": [
    "print 'The maximum price in 2013 was on ' + str(z.idxmax()) + ' with the maximum price of ' + str(nf[z.idxmax()]) + '.'"
   ]
  },
  {
   "cell_type": "markdown",
   "metadata": {},
   "source": [
    "### Question 4"
   ]
  },
  {
   "cell_type": "markdown",
   "metadata": {},
   "source": [
    "We want to set an alert that warns us when the price has dropped 18% or more in the past 20 sessions. \n",
    "<ul>\n",
    "<li>In which days is the alert triggered? Report the days in which the alert is triggered and the drop. </li>\n",
    "<li>Look online for explanations of the most recent drop detected, and summarize in less than 20 words what caused the drop</li>\n",
    "</ul>"
   ]
  },
  {
   "cell_type": "code",
   "execution_count": 242,
   "metadata": {
    "collapsed": false
   },
   "outputs": [
    {
     "data": {
      "text/plain": [
       "Date\n",
       "2012-11-15    0.191102\n",
       "2012-11-16    0.181453\n",
       "2016-01-07    0.184217\n",
       "2016-05-12    0.194112\n",
       "Name: Close, dtype: float64"
      ]
     },
     "execution_count": 242,
     "metadata": {},
     "output_type": "execute_result"
    }
   ],
   "source": [
    "y = ((nf.shift(20)-nf)/nf.shift(20))\n",
    "y[y >= .18]"
   ]
  },
  {
   "cell_type": "markdown",
   "metadata": {},
   "source": [
    "Explanation: "
   ]
  },
  {
   "cell_type": "markdown",
   "metadata": {},
   "source": [
    "Apple's stock fell as company revealed its first sales decline since 2003. Drop in iPhone sales, failure of iPhone 6S in generating enthusiasm."
   ]
  }
 ],
 "metadata": {
  "kernelspec": {
   "display_name": "Python 2",
   "language": "python",
   "name": "python2"
  },
  "language_info": {
   "codemirror_mode": {
    "name": "ipython",
    "version": 2
   },
   "file_extension": ".py",
   "mimetype": "text/x-python",
   "name": "python",
   "nbconvert_exporter": "python",
   "pygments_lexer": "ipython2",
   "version": "2.7.11"
  }
 },
 "nbformat": 4,
 "nbformat_minor": 0
}
